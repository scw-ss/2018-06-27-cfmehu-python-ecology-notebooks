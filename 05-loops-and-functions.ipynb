{
 "cells": [
  {
   "cell_type": "markdown",
   "metadata": {},
   "source": [
    "# Data workflows and automation\n",
    "\n",
    "So far, we've used Python and the pandas library to explore and manipulate\n",
    "individual datasets by hand, much like we would do in a spreadsheet. The beauty\n",
    "of using a programming language like Python, though, comes from the ability to\n",
    "automate data processing through the use of loops and functions.\n",
    "\n",
    "## For loops\n",
    "\n",
    "Loops allow us to repeat a workflow (or series of actions) a given number of\n",
    "times or while some condition is true. We would use a loop to automatically\n",
    "process data that's stored in multiple files (daily values with one file per\n",
    "year, for example). Loops lighten our work load by performing repeated tasks\n",
    "without our direct involvement and make it less likely that we'll introduce\n",
    "errors by making mistakes while processing each file by hand.\n",
    "\n",
    "Let's write a simple for loop that simulates what a kid might see during a\n",
    "visit to the zoo:"
   ]
  },
  {
   "cell_type": "code",
   "execution_count": 3,
   "metadata": {
    "collapsed": true
   },
   "outputs": [
    {
     "name": "stdout",
     "output_type": "stream",
     "text": [
      "['lion', 'tiger', 'crocodile', 'vulture', 'hippo']\n",
      "lion\n",
      "tiger\n",
      "crocodile\n",
      "vulture\n",
      "hippo\n"
     ]
    }
   ],
   "source": [
    "animals = ['lion', 'tiger', 'crocodile', 'vulture', 'hippo']\n",
    "print (animals)\n",
    "for creature in animals:\n",
    "    print (creature)"
   ]
  },
  {
   "cell_type": "markdown",
   "metadata": {},
   "source": [
    "The line defining the loop must start with `for` and end with a colon, and the\n",
    "body of the loop must be indented.\n",
    "\n",
    "In this example, `creature` is the loop variable that takes the value of the next\n",
    "entry in `animals` every time the loop goes around. We can call the loop variable\n",
    "anything we like. After the loop finishes, the loop variable will still exist\n",
    "and will have the value of the last entry in the collection:"
   ]
  },
  {
   "cell_type": "code",
   "execution_count": 4,
   "metadata": {
    "collapsed": true
   },
   "outputs": [
    {
     "name": "stdout",
     "output_type": "stream",
     "text": [
      "The loop variable is now hippo\n"
     ]
    }
   ],
   "source": [
    "for creature in animals:\n",
    "    pass\n",
    "print (\"The loop variable is now \" + creature)"
   ]
  },
  {
   "cell_type": "markdown",
   "metadata": {},
   "source": [
    "We are not asking python to print the value of the loop variable anymore, but\n",
    "the for loop still runs and the value of `creature` changes on each pass through\n",
    "the loop. The statement `pass` in the body of the loop just means \"do nothing\".\n",
    "\n",
    "> ## Challenge - Loops\n",
    ">\n",
    "> 1. What happens if we don't include the `pass` statement?\n",
    ">\n",
    "> 2. Rewrite the loop so that the animals are separated by commas, not new lines\n",
    "> (Hint: You can concatenate strings using a plus sign. For example,\n",
    "> `print(string1 + string2)` outputs 'string1string2').\n",
    "\n",
    "## Automating data processing using For Loops\n",
    "\n",
    "The file we've been using so far, `surveys.csv`, contains 25 years of data and is\n",
    "very large. We would like to separate the data for each year into a separate\n",
    "file.\n",
    "\n",
    "Let's start by making a new directory inside the folder `data` to store all of\n",
    "these files using the module `os`:"
   ]
  },
  {
   "cell_type": "code",
   "execution_count": 6,
   "metadata": {
    "collapsed": true
   },
   "outputs": [],
   "source": [
    "import os\n",
    "os.mkdir('data/yearly_files')"
   ]
  },
  {
   "cell_type": "markdown",
   "metadata": {},
   "source": [
    "The command `os.mkdir` is equivalent to `mkdir` in the shell. Just so we are\n",
    "sure, we can check that the new directory was created within the `data` folder:"
   ]
  },
  {
   "cell_type": "code",
   "execution_count": 7,
   "metadata": {
    "collapsed": true
   },
   "outputs": [
    {
     "data": {
      "text/plain": [
       "['survey2002.csv',\n",
       " 'speciesSubset.csv',\n",
       " 'yearly_files',\n",
       " 'survey2001.csv',\n",
       " 'surveys.csv']"
      ]
     },
     "execution_count": 7,
     "metadata": {},
     "output_type": "execute_result"
    }
   ],
   "source": [
    "os.listdir('data')"
   ]
  },
  {
   "cell_type": "markdown",
   "metadata": {},
   "source": [
    "The command `os.listdir` is equivalent to `ls` in the shell.\n",
    "\n",
    "In previous lessons, we saw how to use the library pandas to load the species\n",
    "data into memory as a DataFrame, how to select a subset of the data using some\n",
    "criteria, and how to write the DataFrame into a csv file. Let's write a script\n",
    "that performs those three steps in sequence for the year 2002:"
   ]
  },
  {
   "cell_type": "code",
   "execution_count": 9,
   "metadata": {
    "collapsed": true
   },
   "outputs": [],
   "source": [
    "import pandas as pd\n",
    "\n",
    "# Load the data into a DataFrame\n",
    "surveys_df = pd.read_csv(\"data/surveys.csv\")\n",
    "\n",
    "# Select only data for 2002\n",
    "surveys2002 = surveys_df[surveys_df.year == 2002]\n",
    "\n",
    "# Write the new DataFrame to a csv file\n",
    "surveys2002.to_csv('data/yearly_files/surveys2002.csv')"
   ]
  },
  {
   "cell_type": "markdown",
   "metadata": {},
   "source": [
    "To create yearly data files, we could repeat the last two commands over and\n",
    "over, once for each year of data. Repeating code is neither elegant nor\n",
    "practical, and is very likely to introduce errors into your code. We want to\n",
    "turn what we've just written into a loop that repeats the last two commands for\n",
    "every year in the dataset.\n",
    "\n",
    "Let's start by writing a loop that simply prints the names of the files we want\n",
    "to create - the dataset we are using covers 1977 through 2002, and we'll create\n",
    "a separate file for each of those years. Listing the filenames is a good way to\n",
    "confirm that the loop is behaving as we expect.\n",
    "\n",
    "We have seen that we can loop over a list of items, so we need a list of years\n",
    "to loop over. We can get the years in our DataFrame with:"
   ]
  },
  {
   "cell_type": "code",
   "execution_count": 11,
   "metadata": {
    "collapsed": true
   },
   "outputs": [
    {
     "data": {
      "text/plain": [
       "0        1977\n",
       "1        1977\n",
       "2        1977\n",
       "3        1977\n",
       "4        1977\n",
       "5        1977\n",
       "6        1977\n",
       "7        1977\n",
       "8        1977\n",
       "9        1977\n",
       "10       1977\n",
       "11       1977\n",
       "12       1977\n",
       "13       1977\n",
       "14       1977\n",
       "15       1977\n",
       "16       1977\n",
       "17       1977\n",
       "18       1977\n",
       "19       1977\n",
       "20       1977\n",
       "21       1977\n",
       "22       1977\n",
       "23       1977\n",
       "24       1977\n",
       "25       1977\n",
       "26       1977\n",
       "27       1977\n",
       "28       1977\n",
       "29       1977\n",
       "         ... \n",
       "35519    2002\n",
       "35520    2002\n",
       "35521    2002\n",
       "35522    2002\n",
       "35523    2002\n",
       "35524    2002\n",
       "35525    2002\n",
       "35526    2002\n",
       "35527    2002\n",
       "35528    2002\n",
       "35529    2002\n",
       "35530    2002\n",
       "35531    2002\n",
       "35532    2002\n",
       "35533    2002\n",
       "35534    2002\n",
       "35535    2002\n",
       "35536    2002\n",
       "35537    2002\n",
       "35538    2002\n",
       "35539    2002\n",
       "35540    2002\n",
       "35541    2002\n",
       "35542    2002\n",
       "35543    2002\n",
       "35544    2002\n",
       "35545    2002\n",
       "35546    2002\n",
       "35547    2002\n",
       "35548    2002\n",
       "Name: year, Length: 35549, dtype: int64"
      ]
     },
     "execution_count": 11,
     "metadata": {},
     "output_type": "execute_result"
    }
   ],
   "source": [
    "surveys_df['year']"
   ]
  },
  {
   "cell_type": "markdown",
   "metadata": {},
   "source": [
    "but we want only unique years, which we can get using the `unique` function\n",
    "which we have already seen.  "
   ]
  },
  {
   "cell_type": "code",
   "execution_count": 12,
   "metadata": {
    "collapsed": true
   },
   "outputs": [
    {
     "data": {
      "text/plain": [
       "array([1977, 1978, 1979, 1980, 1981, 1982, 1983, 1984, 1985, 1986, 1987,\n",
       "       1988, 1989, 1990, 1991, 1992, 1993, 1994, 1995, 1996, 1997, 1998,\n",
       "       1999, 2000, 2001, 2002])"
      ]
     },
     "execution_count": 12,
     "metadata": {},
     "output_type": "execute_result"
    }
   ],
   "source": [
    "surveys_df.year.unique()"
   ]
  },
  {
   "cell_type": "markdown",
   "metadata": {},
   "source": [
    "Putting this into our for loop we get"
   ]
  },
  {
   "cell_type": "code",
   "execution_count": 14,
   "metadata": {},
   "outputs": [
    {
     "name": "stdout",
     "output_type": "stream",
     "text": [
      "data/yearly_files/surveys1977.csv\n",
      "data/yearly_files/surveys1978.csv\n",
      "data/yearly_files/surveys1979.csv\n",
      "data/yearly_files/surveys1980.csv\n",
      "data/yearly_files/surveys1981.csv\n",
      "data/yearly_files/surveys1982.csv\n",
      "data/yearly_files/surveys1983.csv\n",
      "data/yearly_files/surveys1984.csv\n",
      "data/yearly_files/surveys1985.csv\n",
      "data/yearly_files/surveys1986.csv\n",
      "data/yearly_files/surveys1987.csv\n",
      "data/yearly_files/surveys1988.csv\n",
      "data/yearly_files/surveys1989.csv\n",
      "data/yearly_files/surveys1990.csv\n",
      "data/yearly_files/surveys1991.csv\n",
      "data/yearly_files/surveys1992.csv\n",
      "data/yearly_files/surveys1993.csv\n",
      "data/yearly_files/surveys1994.csv\n",
      "data/yearly_files/surveys1995.csv\n",
      "data/yearly_files/surveys1996.csv\n",
      "data/yearly_files/surveys1997.csv\n",
      "data/yearly_files/surveys1998.csv\n",
      "data/yearly_files/surveys1999.csv\n",
      "data/yearly_files/surveys2000.csv\n",
      "data/yearly_files/surveys2001.csv\n",
      "data/yearly_files/surveys2002.csv\n"
     ]
    }
   ],
   "source": [
    "for year in surveys_df.year.unique():\n",
    "    filename = \"data/yearly_files/surveys\" + str(year) + '.csv'\n",
    "    print (filename)"
   ]
  },
  {
   "cell_type": "markdown",
   "metadata": {},
   "source": [
    "We can now add the rest of the steps we need to create separate text files:"
   ]
  },
  {
   "cell_type": "code",
   "execution_count": 15,
   "metadata": {
    "collapsed": true
   },
   "outputs": [],
   "source": [
    "# Load the data into a DataFrame\n",
    "surveys_df = pd.read_csv(\"data/surveys.csv\")\n",
    "\n",
    "for year in surveys_df['year'].unique():\n",
    "    \n",
    "    # Select data for the year\n",
    "    surveys_year = surveys_df[surveys_df.year == year]\n",
    "\n",
    "    # Write the new DataFrame to a csv file\n",
    "    filename = \"data/yearly_files/surveys\" + str(year) + '.csv'\n",
    "    surveys_year.to_csv(filename)"
   ]
  },
  {
   "cell_type": "markdown",
   "metadata": {},
   "source": [
    "Look inside the `yearly_files` directory and check a couple of the files you\n",
    "just created to confirm that everything worked as expected.\n",
    "\n",
    "## Writing Unique FileNames\n",
    "\n",
    "Notice that the code above created a unique filename for each year.\n",
    "\n",
    "\tfilename = 'data/yearly_files/surveys' + str(year) + '.csv'\n",
    "\n",
    "Let's break down the parts of this name:\n",
    "\n",
    "* The first part is simply some text that specifies the directory to store our\n",
    "  data file in (data/yearly_files/) and the first part of the file name\n",
    "  (surveys): `'data/yearly_files/surveys'`\n",
    "* We can concatenate this with the value of a variable, in this case `year` by\n",
    "  using the plus `+` sign and the variable we want to add to the file name: `+\n",
    "  str(year)`\n",
    "* Then we add the file extension as another text string: `+ '.csv'`\n",
    "\n",
    "Notice that we use single quotes to add text strings. The variable is not\n",
    "surrounded by quotes. This code produces the string\n",
    "`data/yearly_files/surveys2002.csv` which contains the path to the new filename\n",
    "AND the file name itself.\n",
    "\n",
    "> ## Challenge - Modifying loops\n",
    ">\n",
    "> 1. Some of the surveys you saved are missing data (they have null values that\n",
    "> show up as NaN - Not A Number - in the DataFrames and do not show up in the text\n",
    "> files). Modify the for loop so that the entries with null values are not\n",
    "> included in the yearly files.\n",
    ">\n",
    "> 2. Let's say you only want to look at data from a given multiple of years. How would you modify your loop in order to generate a data file for only every 5th year, starting from 1977?\n",
    ">\n",
    "> 3. Instead of splitting out the data by years, a colleague wants to do analyses each species separately. How would you write a unique csv file for each species?"
   ]
  },
  {
   "cell_type": "code",
   "execution_count": null,
   "metadata": {
    "collapsed": true
   },
   "outputs": [],
   "source": []
  },
  {
   "cell_type": "markdown",
   "metadata": {},
   "source": [
    "## Building reusable and modular code with functions\n",
    "\n",
    "Suppose that separating large data files into individual yearly files is a task\n",
    "that we frequently have to perform. We could write a **for loop** like the one above\n",
    "every time we needed to do it but that would be time consuming and error prone.\n",
    "A more elegant solution would be to create a reusable tool that performs this\n",
    "task with minimum input from the user. To do this, we are going to turn the code\n",
    "we've already written into a function.\n",
    "\n",
    "Functions are reusable, self-contained pieces of code that are called with a\n",
    "single command. They can be designed to accept arguments as input and return\n",
    "values, but they don't need to do either. Variables declared inside functions\n",
    "only exist while the function is running and if a variable within the function\n",
    "(a local variable) has the same name as a variable somewhere else in the code,\n",
    "the local variable hides but doesn't overwrite the other.\n",
    "\n",
    "Every method used in Python (for example, `print`) is a function, and the\n",
    "libraries we import (say, `pandas`) are a collection of functions. We will only\n",
    "use functions that are housed within the same code that uses them, but it's also\n",
    "easy to write functions that can be used by different programs.\n",
    "\n",
    "Functions are declared following this general structure:\n"
   ]
  },
  {
   "cell_type": "code",
   "execution_count": 18,
   "metadata": {
    "collapsed": true
   },
   "outputs": [],
   "source": [
    "def this_is_the_function_name(input_argument1, input_argument2):\n",
    "    # The body of the function is indented\n",
    "    # This function prints the two arguments to screen\n",
    "    print (\"The function arguments are:\", input_argument1, input_argument2, \"this is done inside the function\")\n",
    "    \n",
    "    # And returns their product\n",
    "    return input_argument1 * input_argument2"
   ]
  },
  {
   "cell_type": "markdown",
   "metadata": {},
   "source": [
    "The function declaration starts with the word `def`, followed by the function\n",
    "name and any arguments in parenthesis, and ends in a colon. The body of the\n",
    "function is indented just like loops are. If the function returns something when\n",
    "it is called, it includes a return statement at the end.\n",
    "\n",
    "This is how we call the function:"
   ]
  },
  {
   "cell_type": "code",
   "execution_count": 19,
   "metadata": {
    "collapsed": true
   },
   "outputs": [
    {
     "name": "stdout",
     "output_type": "stream",
     "text": [
      "The function arguments are: 2 5 this is done inside the function\n",
      "Their product is:  10 (this is done outside the function)\n"
     ]
    }
   ],
   "source": [
    "product_of_inputs = this_is_the_function_name(2,5)\n",
    "print ('Their product is: ', product_of_inputs, '(this is done outside the function)')"
   ]
  },
  {
   "cell_type": "markdown",
   "metadata": {},
   "source": [
    "> ## Challenge - Functions\n",
    ">\n",
    "> 1. Change the values of the arguments in the function and check its output\n",
    "> 2. Try calling the function by giving it the wrong number of arguments (not 2)\n",
    ">   or not assigning the function call to a variable (no `product_of_inputs =`)\n",
    "> 3. Declare a variable inside the function and test to see where it exists (Hint:\n",
    ">   can you print it from outside the function?)\n",
    "> 4. Explore what happens when a variable both inside and outside the function\n",
    ">   have the same name. What happens to the global variable when you change the\n",
    ">   value of the local variable?"
   ]
  },
  {
   "cell_type": "code",
   "execution_count": null,
   "metadata": {
    "collapsed": true
   },
   "outputs": [],
   "source": []
  },
  {
   "cell_type": "markdown",
   "metadata": {},
   "source": [
    "We can now turn our code for saving yearly data files into a function. There are\n",
    "many different \"chunks\" of this code that we can turn into functions, and we can\n",
    "even create functions that call other functions inside them. Let's first write a\n",
    "function that separates data for just one year and saves that data to a file:"
   ]
  },
  {
   "cell_type": "code",
   "execution_count": 20,
   "metadata": {
    "collapsed": true
   },
   "outputs": [],
   "source": [
    "def one_year_csv_writer(this_year, all_data):\n",
    "    \"\"\"\n",
    "    Writes a csv file for data from a given year.\n",
    "\n",
    "    this_year --- year for which data is extracted\n",
    "    all_data --- DataFrame with multi-year data\n",
    "    \"\"\"\n",
    "\n",
    "    # Select data for the year\n",
    "    surveys_year = all_data[all_data.year == this_year]\n",
    "\n",
    "    # Write the new DataFrame to a csv file\n",
    "    filename = 'data/yearly_files/function_surveys' + str(this_year) + '.csv'\n",
    "    surveys_year.to_csv(filename)    "
   ]
  },
  {
   "cell_type": "markdown",
   "metadata": {},
   "source": [
    "The text between the two sets of triple double quotes is called a docstring and\n",
    "contains the documentation for the function. It does nothing when the function\n",
    "is running and is therefore not necessary, but it is good practice to include\n",
    "docstrings as a reminder of what the code does. Docstrings in functions also\n",
    "become part of their 'official' documentation:"
   ]
  },
  {
   "cell_type": "code",
   "execution_count": 22,
   "metadata": {
    "collapsed": true
   },
   "outputs": [
    {
     "data": {
      "text/plain": [
       "\u001b[0;31mSignature:\u001b[0m \u001b[0mone_year_csv_writer\u001b[0m\u001b[0;34m(\u001b[0m\u001b[0mthis_year\u001b[0m\u001b[0;34m,\u001b[0m \u001b[0mall_data\u001b[0m\u001b[0;34m)\u001b[0m\u001b[0;34m\u001b[0m\u001b[0m\n",
       "\u001b[0;31mDocstring:\u001b[0m\n",
       "Writes a csv file for data from a given year.\n",
       "\n",
       "this_year --- year for which data is extracted\n",
       "all_data --- DataFrame with multi-year data\n",
       "\u001b[0;31mFile:\u001b[0m      ~/Software/SWC/python-ecology-lesson/_episodes_pynb/<ipython-input-20-9ea06fbabefd>\n",
       "\u001b[0;31mType:\u001b[0m      function\n"
      ]
     },
     "metadata": {},
     "output_type": "display_data"
    }
   ],
   "source": [
    "one_year_csv_writer?\n",
    "one_year_csv_writer(2002, surveys_df)"
   ]
  },
  {
   "cell_type": "markdown",
   "metadata": {},
   "source": [
    "We changed the root of the name of the csv file so we can distinguish it from\n",
    "the one we wrote before. Check the `yearly_files` directory for the file. Did it\n",
    "do what you expect?\n",
    "\n",
    "What we really want to do, though, is create files for multiple years without\n",
    "having to request them one by one. Let's write another function that replaces\n",
    "the entire For loop by simply looping through a sequence of years and repeatedly\n",
    "calling the function we just wrote, `one_year_csv_writer`:\n"
   ]
  },
  {
   "cell_type": "code",
   "execution_count": 23,
   "metadata": {
    "collapsed": true
   },
   "outputs": [],
   "source": [
    "def yearly_data_csv_writer(start_year, end_year, all_data):\n",
    "    \"\"\"\n",
    "    Writes separate CSV files for each year of data.\n",
    "\n",
    "    start_year --- the first year of data we want\n",
    "    end_year --- the last year of data we want\n",
    "    all_data --- DataFrame with multi-year data\n",
    "    \"\"\"\n",
    "\n",
    "    # \"end_year\" is the last year of data we want to pull, so we loop to end_year+1\n",
    "    for year in range(start_year, end_year+1):\n",
    "        one_year_csv_writer(year, all_data)"
   ]
  },
  {
   "cell_type": "markdown",
   "metadata": {},
   "source": [
    "Because people will naturally expect that the end year for the files is the last\n",
    "year with data, the for loop inside the function ends at `end_year + 1`. By\n",
    "writing the entire loop into a function, we've made a reusable tool for whenever\n",
    "we need to break a large data file into yearly files. Because we can specify the\n",
    "first and last year for which we want files, we can even use this function to\n",
    "create files for a subset of the years available. This is how we call this\n",
    "function:"
   ]
  },
  {
   "cell_type": "code",
   "execution_count": 24,
   "metadata": {
    "collapsed": true
   },
   "outputs": [],
   "source": [
    "# Load the data into a DataFrame\n",
    "surveys_df = pd.read_csv('data/surveys.csv')\n",
    "\n",
    "# Create CSV files\n",
    "yearly_data_csv_writer(1977, 2002, surveys_df)"
   ]
  },
  {
   "cell_type": "markdown",
   "metadata": {},
   "source": [
    "BEWARE! If you are using IPython Notebooks and you modify a function, you MUST\n",
    "re-run that cell in order for the changed function to be available to the rest\n",
    "of the code. Nothing will visibly happen when you do this, though, because\n",
    "simply defining a function without *calling* it doesn't produce an output. Any\n",
    "cells that use the now-changed functions will also have to be re-run for their\n",
    "output to change.\n",
    "\n",
    "> ## Challenge- More functions\n",
    ">\n",
    "> 1. Add two arguments to the functions we wrote that take the path of the\n",
    ">    directory where the files will be written and the root of the file name.\n",
    ">    Create a new set of files with a different name in a different directory.\n",
    "> 2. How could you use the function `yearly_data_csv_writer` to create a csv file\n",
    ">    for only one year? (Hint: think about the syntax for `range`)\n",
    "> 3. Make the functions return a list of the files they have written. There are\n",
    ">    many ways you can do this (and you should try them all!): either of the\n",
    ">    functions can print to screen, either can use a return statement to give back\n",
    ">    numbers or strings to their function call, or you can use some combination of\n",
    ">    the two. You could also try using the `os` library to list the contents of\n",
    ">    directories.\n",
    "> 4. Explore what happens when variables are declared inside each of the functions\n",
    ">    versus in the main (non-indented) body of your code. What is the scope of the\n",
    ">    variables (where are they visible)? What happens when they have the same name\n",
    ">   but are given different values?\n",
    "{: .challenge}\n",
    "\n",
    "The functions we wrote demand that we give them a value for every argument.\n",
    "Ideally, we would like these functions to be as flexible and independent as\n",
    "possible. Let's modify the function `yearly_data_csv_writer` so that the\n",
    "`start_year` and `end_year` default to the full range of the data if they are\n",
    "not supplied by the user. Arguments can be given default values with an equal\n",
    "sign in the function declaration. Any arguments in the function without default\n",
    "values (here, `all_data`) is a required argument and MUST come before the\n",
    "argument with default values (which are optional in the function call).\n"
   ]
  },
  {
   "cell_type": "code",
   "execution_count": 25,
   "metadata": {
    "collapsed": true
   },
   "outputs": [
    {
     "name": "stdout",
     "output_type": "stream",
     "text": [
      "Both optional arguments:\t 1988 1993\n",
      "Default values:\t\t\t 1977 2002\n"
     ]
    }
   ],
   "source": [
    "    def yearly_data_arg_test(all_data, start_year = 1977, end_year = 2002):\n",
    "        \"\"\"\n",
    "        Modified from yearly_data_csv_writer to test default argument values!\n",
    "\n",
    "        start_year --- the first year of data we want --- default: 1977\n",
    "        end_year --- the last year of data we want --- default: 2002\n",
    "        all_data --- DataFrame with multi-year data\n",
    "        \"\"\"\n",
    "\n",
    "        return start_year, end_year\n",
    "\n",
    "\n",
    "    start,end = yearly_data_arg_test (surveys_df, 1988, 1993)\n",
    "    print('Both optional arguments:\\t', start, end)\n",
    "\n",
    "    start,end = yearly_data_arg_test (surveys_df)\n",
    "    print('Default values:\\t\\t\\t', start, end)"
   ]
  },
  {
   "cell_type": "markdown",
   "metadata": {},
   "source": [
    "The \"\\t\" in the `print` statements are tabs, used to make the text align and be\n",
    "easier to read.\n",
    "\n",
    "But what if our dataset doesn't start in 1977 and end in 2002? We can modify the\n",
    "function so that it looks for the start and end years in the dataset if those\n",
    "dates are not provided:"
   ]
  },
  {
   "cell_type": "code",
   "execution_count": 26,
   "metadata": {
    "collapsed": true
   },
   "outputs": [
    {
     "name": "stdout",
     "output_type": "stream",
     "text": [
      "Both optional arguments:\t 1988 1993\n",
      "Default values:\t\t\t 1977 2002\n"
     ]
    }
   ],
   "source": [
    "    def yearly_data_arg_test(all_data, start_year = None, end_year = None):\n",
    "        \"\"\"\n",
    "        Modified from yearly_data_csv_writer to test default argument values!\n",
    "\n",
    "        start_year --- the first year of data we want --- default: None - check all_data\n",
    "        end_year --- the last year of data we want --- default: None - check all_data\n",
    "        all_data --- DataFrame with multi-year data\n",
    "        \"\"\"\n",
    "\n",
    "        if start_year is None:\n",
    "            start_year = min(all_data.year)\n",
    "        if end_year is None:\n",
    "            end_year = max(all_data.year)\n",
    "\n",
    "        return start_year, end_year\n",
    "\n",
    "\n",
    "    start,end = yearly_data_arg_test (surveys_df, 1988, 1993)\n",
    "    print('Both optional arguments:\\t', start, end)\n",
    "\n",
    "    start,end = yearly_data_arg_test (surveys_df)\n",
    "    print('Default values:\\t\\t\\t', start, end)"
   ]
  },
  {
   "cell_type": "markdown",
   "metadata": {},
   "source": [
    "The default values of the `start_year` and `end_year` arguments in the function\n",
    "`yearly_data_arg_test` are now `None`. This is a build-it constant in Python\n",
    "that indicates the absence of a value - essentially, that the variable exists in\n",
    "the namespace of the function (the directory of variable names) but that it\n",
    "doesn't correspond to any existing object.\n",
    "\n",
    "> ## Challenge - Variables\n",
    ">\n",
    "> 1. What type of object corresponds to a variable declared as `None`? (Hint:\n",
    "> create a variable set to `None` and use the function `type()`)\n",
    ">\n",
    "> 2. Compare the behavior of the function `yearly_data_arg_test` when the\n",
    "> arguments have `None` as a default and when they do not have default values.\n",
    ">\n",
    "> 3. What happens if you only include a value for `start_year` in the function\n",
    "> call? Can you write the function call with only a value for `end_year`? (Hint:\n",
    "> think about how the function must be assigning values to each of the arguments -\n",
    "> this is related to the need to put the arguments without default values before\n",
    "> those with default values in the function definition!)\n",
    "{: .challenge}\n",
    "\n",
    "## If Statements\n",
    "\n",
    "The body of the test function now has two conditionals (if statements) that\n",
    "check the values of `start_year` and `end_year`. If statements execute a segment\n",
    "of code when some condition is met. They commonly look something like this:"
   ]
  },
  {
   "cell_type": "code",
   "execution_count": 27,
   "metadata": {
    "collapsed": true
   },
   "outputs": [
    {
     "name": "stdout",
     "output_type": "stream",
     "text": [
      "a is a positive number\n"
     ]
    }
   ],
   "source": [
    "    a = 5\n",
    "\n",
    "    if a<0:  # Meets first condition?\n",
    "\n",
    "        # if a IS less than zero\n",
    "        print('a is a negative number')\n",
    "\n",
    "    elif a>0:  # Did not meet first condition. meets second condition?\n",
    "\n",
    "        # if a ISN'T less than zero and IS more than zero\n",
    "        print('a is a positive number')\n",
    "\n",
    "    else:  # Met neither condition\n",
    "\n",
    "        # if a ISN'T less than zero and ISN'T more than zero\n",
    "        print('a must be zero!')"
   ]
  },
  {
   "cell_type": "markdown",
   "metadata": {},
   "source": [
    "Which would return:\n",
    "\n",
    "```\n",
    "    a is a positive number\n",
    "```\n",
    "\n",
    "Change the value of `a` to see how this function works. The statement `elif`\n",
    "means \"else if\", and all of the conditional statements must end in a colon.\n",
    "\n",
    "The if statements in the function `yearly_data_arg_test` check whether there is an\n",
    "object associated with the variable names `start_year` and `end_year`. If those\n",
    "variables are `None`, the if statements return the boolean `True` and execute whatever\n",
    "is in their body. On the other hand, if the variable names are associated with\n",
    "some value (they got a number in the function call), the if statements return `False`\n",
    "and do not execute. The opposite conditional statements, which would return\n",
    "`True` if the variables were associated with objects (if they had received value\n",
    "in the function call), would be `if start_year` and `if end_year`.\n",
    "\n",
    "As we've written it so far, the function `yearly_data_arg_test` associates\n",
    "values in the function call with arguments in the function definition just based\n",
    "in their order. If the function gets only two values in the function call, the\n",
    "first one will be associated with `all_data` and the second with `start_year`,\n",
    "regardless of what we intended them to be. We can get around this problem by\n",
    "calling the function using keyword arguments, where each of the arguments in the\n",
    "function definition is associated with a keyword and the function call passes\n",
    "values to the function using these keywords:\n",
    "\n"
   ]
  },
  {
   "cell_type": "code",
   "execution_count": 28,
   "metadata": {
    "collapsed": true
   },
   "outputs": [
    {
     "name": "stdout",
     "output_type": "stream",
     "text": [
      "Default values:\t\t\t 1977 2002\n",
      "No keywords:\t\t\t 1988 1993\n",
      "Both keywords, in order:\t 1988 1993\n",
      "Both keywords, flipped:\t\t 1988 1993\n",
      "One keyword, default end:\t 1988 2002\n",
      "One keyword, default start:\t 1977 1993\n"
     ]
    }
   ],
   "source": [
    "    start,end = yearly_data_arg_test (surveys_df)\n",
    "    print('Default values:\\t\\t\\t', start, end)\n",
    "\n",
    "    start,end = yearly_data_arg_test (surveys_df, 1988, 1993)\n",
    "    print('No keywords:\\t\\t\\t', start, end)\n",
    "\n",
    "    start,end = yearly_data_arg_test (surveys_df, start_year = 1988, end_year = 1993)\n",
    "    print('Both keywords, in order:\\t', start, end)\n",
    "\n",
    "    start,end = yearly_data_arg_test (surveys_df, end_year = 1993, start_year = 1988)\n",
    "    print('Both keywords, flipped:\\t\\t', start, end)\n",
    "\n",
    "    start,end = yearly_data_arg_test (surveys_df, start_year = 1988)\n",
    "    print('One keyword, default end:\\t', start, end)\n",
    "\n",
    "    start,end = yearly_data_arg_test (surveys_df, end_year = 1993)\n",
    "    print('One keyword, default start:\\t', start, end)"
   ]
  },
  {
   "cell_type": "markdown",
   "metadata": {},
   "source": [
    "> ## Challenge - Modifying functions\n",
    ">\n",
    "> 1. Rewrite the `one_year_csv_writer` and `yearly_data_csv_writer` functions to\n",
    "> have keyword arguments with default values\n",
    ">\n",
    "> 2. Modify the functions so that they don't create yearly files if there is no\n",
    "> data for a given year and display an alert to the user (Hint: use conditional\n",
    "> statements to do this. For an extra challenge, use `try`\n",
    "> statements!)\n",
    ">\n",
    "> 3. The code below checks to see whether a directory exists and creates one if it\n",
    "> doesn't. Add some code to your function that writes out the CSV files, to check\n",
    "> for a directory to write to.\n",
    ">\n",
    "> ```Python\n",
    ">\tif 'dir_name_here' in os.listdir('.'):\n",
    ">\t    print('Processed directory exists')\n",
    ">\telse:\n",
    ">\t    os.mkdir('dir_name_here')\n",
    ">\t    print('Processed directory created')\n",
    "> ```\n",
    ">\n",
    "> 4. The code that you have written so far to loop through the years is good,\n",
    "> however it is not necessarily reproducible with different datasets.\n",
    "> For instance, what happens to the code if we have additional years of data\n",
    "> in our CSV files? Using the tools that you learned in the previous activities,\n",
    "> make a list of all years represented in the data. Then create a loop to process\n",
    "> your data, that begins at the earliest year and ends at the latest year using\n",
    "> that list.\n",
    ">\n",
    "> HINT: you can create a loop with a list as follows: `for years in year_list:`"
   ]
  },
  {
   "cell_type": "code",
   "execution_count": null,
   "metadata": {
    "collapsed": true
   },
   "outputs": [],
   "source": []
  }
 ],
 "metadata": {
  "anaconda-cloud": {},
  "kernelspec": {
   "display_name": "Python 3",
   "language": "python",
   "name": "python3"
  },
  "language_info": {
   "codemirror_mode": {
    "name": "ipython",
    "version": 3
   },
   "file_extension": ".py",
   "mimetype": "text/x-python",
   "name": "python",
   "nbconvert_exporter": "python",
   "pygments_lexer": "ipython3",
   "version": "3.6.4"
  }
 },
 "nbformat": 4,
 "nbformat_minor": 2
}
