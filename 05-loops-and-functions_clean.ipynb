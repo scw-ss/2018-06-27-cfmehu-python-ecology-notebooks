{
 "cells": [
  {
   "cell_type": "markdown",
   "metadata": {},
   "source": [
    "# Data workflows and automation\n",
    "\n",
    "## For loops\n",
    "\n",
    "Loops allow us to repeat a workflow (or series of actions) a given number of\n",
    "times or while some condition is true. We would use a loop to automatically\n",
    "process data that's stored in multiple files (daily values with one file per\n",
    "year, for example). Loops lighten our work load by performing repeated tasks\n",
    "without our direct involvement and make it less likely that we'll introduce\n",
    "errors by making mistakes while processing each file by hand."
   ]
  },
  {
   "cell_type": "code",
   "execution_count": null,
   "metadata": {},
   "outputs": [],
   "source": []
  },
  {
   "cell_type": "code",
   "execution_count": null,
   "metadata": {},
   "outputs": [],
   "source": []
  },
  {
   "cell_type": "markdown",
   "metadata": {},
   "source": [
    "> ## Challenge - Loops\n",
    ">\n",
    "> 1. What happens if we don't include the `pass` statement?\n",
    ">\n",
    "> 2. Rewrite the loop so that the animals are separated by commas, not new lines\n",
    "> (Hint: You can concatenate strings using a plus sign. For example,\n",
    "> `print(string1 + string2)` outputs 'string1string2')."
   ]
  },
  {
   "cell_type": "code",
   "execution_count": null,
   "metadata": {},
   "outputs": [],
   "source": []
  },
  {
   "cell_type": "markdown",
   "metadata": {},
   "source": [
    "\n",
    "\n",
    "## Automating data processing using For Loops"
   ]
  },
  {
   "cell_type": "code",
   "execution_count": null,
   "metadata": {},
   "outputs": [],
   "source": []
  },
  {
   "cell_type": "code",
   "execution_count": null,
   "metadata": {},
   "outputs": [],
   "source": []
  },
  {
   "cell_type": "code",
   "execution_count": null,
   "metadata": {},
   "outputs": [],
   "source": []
  },
  {
   "cell_type": "code",
   "execution_count": null,
   "metadata": {},
   "outputs": [],
   "source": []
  },
  {
   "cell_type": "code",
   "execution_count": null,
   "metadata": {},
   "outputs": [],
   "source": []
  },
  {
   "cell_type": "code",
   "execution_count": null,
   "metadata": {},
   "outputs": [],
   "source": []
  },
  {
   "cell_type": "code",
   "execution_count": null,
   "metadata": {},
   "outputs": [],
   "source": []
  },
  {
   "cell_type": "markdown",
   "metadata": {},
   "source": [
    "> ## Challenge - Modifying loops\n",
    ">\n",
    "> 1. Some of the surveys you saved are missing data (they have null values that\n",
    "> show up as NaN - Not A Number - in the DataFrames and do not show up in the text\n",
    "> files). Modify the for loop so that the entries with null values are not\n",
    "> included in the yearly files.\n",
    ">\n",
    "> 2. Let's say you only want to look at data from a given multiple of years. How would you modify your loop in order to generate a data file for only every 5th year, starting from 1977?\n",
    ">\n",
    "> 3. Instead of splitting out the data by years, a colleague wants to do analyses each species separately. How would you write a unique csv file for each species?"
   ]
  },
  {
   "cell_type": "code",
   "execution_count": null,
   "metadata": {},
   "outputs": [],
   "source": []
  },
  {
   "cell_type": "markdown",
   "metadata": {},
   "source": [
    "## Building reusable and modular code with functions\n",
    "Functions are declared following this general structure:"
   ]
  },
  {
   "cell_type": "code",
   "execution_count": null,
   "metadata": {},
   "outputs": [],
   "source": [
    "def this_is_the_function_name(input_argument1, input_argument2):\n",
    "    # The body of the function is indented\n",
    "    # This function prints the two arguments to screen\n",
    "    print (\"The function arguments are:\", input_argument1, input_argument2, \"this is done inside the function\")\n",
    "    \n",
    "    # And returns their product\n",
    "    return input_argument1 * input_argument2"
   ]
  },
  {
   "cell_type": "code",
   "execution_count": null,
   "metadata": {},
   "outputs": [],
   "source": []
  },
  {
   "cell_type": "markdown",
   "metadata": {},
   "source": [
    "> ## Challenge - Functions\n",
    ">\n",
    "> 1. Change the values of the arguments in the function and check its output\n",
    "> 2. Try calling the function by giving it the wrong number of arguments (not 2)\n",
    ">   or not assigning the function call to a variable (no `product_of_inputs =`)\n",
    "> 3. Declare a variable inside the function and test to see where it exists (Hint:\n",
    ">   can you print it from outside the function?)\n",
    "> 4. Explore what happens when a variable both inside and outside the function\n",
    ">   have the same name. What happens to the global variable when you change the\n",
    ">   value of the local variable?"
   ]
  },
  {
   "cell_type": "code",
   "execution_count": null,
   "metadata": {},
   "outputs": [],
   "source": []
  },
  {
   "cell_type": "code",
   "execution_count": null,
   "metadata": {},
   "outputs": [],
   "source": []
  },
  {
   "cell_type": "code",
   "execution_count": null,
   "metadata": {},
   "outputs": [],
   "source": []
  },
  {
   "cell_type": "code",
   "execution_count": null,
   "metadata": {},
   "outputs": [],
   "source": []
  },
  {
   "cell_type": "code",
   "execution_count": null,
   "metadata": {},
   "outputs": [],
   "source": []
  },
  {
   "cell_type": "markdown",
   "metadata": {},
   "source": [
    "> ## Challenge- More functions\n",
    ">\n",
    "> 1. Add two arguments to the functions we wrote that take the path of the\n",
    ">    directory where the files will be written and the root of the file name.\n",
    ">    Create a new set of files with a different name in a different directory.\n",
    "> 2. How could you use the function `yearly_data_csv_writer` to create a csv file\n",
    ">    for only one year? (Hint: think about the syntax for `range`)\n",
    "> 3. Make the functions return a list of the files they have written. There are\n",
    ">    many ways you can do this (and you should try them all!): either of the\n",
    ">    functions can print to screen, either can use a return statement to give back\n",
    ">    numbers or strings to their function call, or you can use some combination of\n",
    ">    the two. You could also try using the `os` library to list the contents of\n",
    ">    directories.\n",
    "> 4. Explore what happens when variables are declared inside each of the functions\n",
    ">    versus in the main (non-indented) body of your code. What is the scope of the\n",
    ">    variables (where are they visible)? What happens when they have the same name\n",
    ">   but are given different values?"
   ]
  },
  {
   "cell_type": "code",
   "execution_count": null,
   "metadata": {},
   "outputs": [],
   "source": []
  },
  {
   "cell_type": "markdown",
   "metadata": {},
   "source": [
    "> ## Challenge - Variables\n",
    ">\n",
    "> 1. What type of object corresponds to a variable declared as `None`? (Hint:\n",
    "> create a variable set to `None` and use the function `type()`)\n",
    ">\n",
    "> 2. Compare the behavior of the function `yearly_data_arg_test` when the\n",
    "> arguments have `None` as a default and when they do not have default values.\n",
    ">\n",
    "> 3. What happens if you only include a value for `start_year` in the function\n",
    "> call? Can you write the function call with only a value for `end_year`? (Hint:\n",
    "> think about how the function must be assigning values to each of the arguments -\n",
    "> this is related to the need to put the arguments without default values before\n",
    "> those with default values in the function definition!)\n"
   ]
  },
  {
   "cell_type": "code",
   "execution_count": null,
   "metadata": {},
   "outputs": [],
   "source": []
  },
  {
   "cell_type": "markdown",
   "metadata": {},
   "source": [
    "## If Statements\n",
    "\n",
    "The body of the test function now has two conditionals (if statements) that\n",
    "check the values of `start_year` and `end_year`. If statements execute a segment\n",
    "of code when some condition is met. They commonly look something like this:"
   ]
  },
  {
   "cell_type": "code",
   "execution_count": null,
   "metadata": {},
   "outputs": [],
   "source": [
    "a = 5\n",
    "if a<0:  # Meets first condition?\n",
    "    # if a IS less than zero\n",
    "    print('a is a negative number')\n",
    "elif a>0:  # Did not meet first condition. meets second condition?\n",
    "    # if a ISN'T less than zero and IS more than zero\n",
    "    print('a is a positive number')\n",
    "else:  # Met neither condition\n",
    "    # if a ISN'T less than zero and ISN'T more than zero\n",
    "    print('a must be zero!')"
   ]
  },
  {
   "cell_type": "code",
   "execution_count": null,
   "metadata": {},
   "outputs": [],
   "source": []
  },
  {
   "cell_type": "markdown",
   "metadata": {},
   "source": [
    "> ## Challenge - Modifying functions\n",
    ">\n",
    "> 1. Rewrite the `one_year_csv_writer` and `yearly_data_csv_writer` functions to\n",
    "> have keyword arguments with default values\n",
    ">\n",
    "> 2. Modify the functions so that they don't create yearly files if there is no\n",
    "> data for a given year and display an alert to the user (Hint: use conditional\n",
    "> statements to do this. For an extra challenge, use `try`\n",
    "> statements!)\n",
    ">\n",
    "> 3. The code below checks to see whether a directory exists and creates one if it\n",
    "> doesn't. Add some code to your function that writes out the CSV files, to check\n",
    "> for a directory to write to.\n",
    ">\n",
    "> ```Python\n",
    ">\tif 'dir_name_here' in os.listdir('.'):\n",
    ">\t    print('Processed directory exists')\n",
    ">\telse:\n",
    ">\t    os.mkdir('dir_name_here')\n",
    ">\t    print('Processed directory created')\n",
    "> ```\n",
    ">\n",
    "> 4. The code that you have written so far to loop through the years is good,\n",
    "> however it is not necessarily reproducible with different datasets.\n",
    "> For instance, what happens to the code if we have additional years of data\n",
    "> in our CSV files? Using the tools that you learned in the previous activities,\n",
    "> make a list of all years represented in the data. Then create a loop to process\n",
    "> your data, that begins at the earliest year and ends at the latest year using\n",
    "> that list.\n",
    ">\n",
    "> HINT: you can create a loop with a list as follows: `for years in year_list:`"
   ]
  },
  {
   "cell_type": "code",
   "execution_count": null,
   "metadata": {},
   "outputs": [],
   "source": []
  }
 ],
 "metadata": {
  "anaconda-cloud": {},
  "kernelspec": {
   "display_name": "Python 3",
   "language": "python",
   "name": "python3"
  },
  "language_info": {
   "codemirror_mode": {
    "name": "ipython",
    "version": 3
   },
   "file_extension": ".py",
   "mimetype": "text/x-python",
   "name": "python",
   "nbconvert_exporter": "python",
   "pygments_lexer": "ipython3",
   "version": "3.6.5"
  }
 },
 "nbformat": 4,
 "nbformat_minor": 2
}
